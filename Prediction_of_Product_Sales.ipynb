{
  "nbformat": 4,
  "nbformat_minor": 0,
  "metadata": {
    "colab": {
      "provenance": [],
      "authorship_tag": "ABX9TyNo9oiupdpgG0O0u6U3vd71",
      "include_colab_link": true
    },
    "kernelspec": {
      "name": "python3",
      "display_name": "Python 3"
    },
    "language_info": {
      "name": "python"
    }
  },
  "cells": [
    {
      "cell_type": "markdown",
      "metadata": {
        "id": "view-in-github",
        "colab_type": "text"
      },
      "source": [
        "<a href=\"https://colab.research.google.com/github/Doraatukunda/Prediction_of_Product_Sales/blob/main/Prediction_of_Product_Sales.ipynb\" target=\"_parent\"><img src=\"https://colab.research.google.com/assets/colab-badge.svg\" alt=\"Open In Colab\"/></a>"
      ]
    },
    {
      "cell_type": "markdown",
      "source": [
        "# **Prediction of Product Sales**\n",
        "\n",
        "\n",
        "\n",
        "Author:Doreen Atukunda\n",
        "\n",
        "##**Project Overview**\n",
        "\n",
        "\n",
        "\n",
        "##**Load and Inspect Data**"
      ],
      "metadata": {
        "id": "FtOQ9VtFccRi"
      }
    },
    {
      "cell_type": "code",
      "source": [],
      "metadata": {
        "id": "5Rg7rJM9fD1G"
      },
      "execution_count": null,
      "outputs": []
    },
    {
      "cell_type": "markdown",
      "source": [
        "## **Clean Data**"
      ],
      "metadata": {
        "id": "1M0JA2bgehvy"
      }
    },
    {
      "cell_type": "code",
      "source": [],
      "metadata": {
        "id": "NVUPFEl4fJxM"
      },
      "execution_count": null,
      "outputs": []
    },
    {
      "cell_type": "markdown",
      "source": [
        "## **Explaratory Data Analysis**"
      ],
      "metadata": {
        "id": "mWCetcadfKqN"
      }
    },
    {
      "cell_type": "code",
      "source": [],
      "metadata": {
        "id": "9o-ZHSFrfY6E"
      },
      "execution_count": null,
      "outputs": []
    },
    {
      "cell_type": "markdown",
      "source": [
        "## **Future Inspection**"
      ],
      "metadata": {
        "id": "Ew5yS2G4fZkq"
      }
    },
    {
      "cell_type": "code",
      "source": [],
      "metadata": {
        "id": "dtM4Klqxff9K"
      },
      "execution_count": null,
      "outputs": []
    }
  ]
}